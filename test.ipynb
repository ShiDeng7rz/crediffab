{
 "cells": [
  {
   "cell_type": "code",
   "id": "initial_id",
   "metadata": {
    "collapsed": true,
    "ExecuteTime": {
     "end_time": "2024-11-11T10:58:19.398328Z",
     "start_time": "2024-11-11T10:58:18.119700Z"
    }
   },
   "source": [
    "import pandas as pd\n",
    "\n",
    "# 输入的 CSV 文件路径\n",
    "csv_file_path = 'D:\\\\NJU\\\\code\\\\sixtai.csv'\n",
    "\n",
    "# 输出的 TXT 文件路径\n",
    "output_txt_path = 'D:\\\\NJU\\\\code\\\\sequence_counts.txt'\n",
    "\n",
    "# 读取 CSV 文件\n",
    "data = pd.read_csv(csv_file_path)\n",
    "\n",
    "# 确保表头存在\n",
    "if 'Beta_6mer_Sequence' in data.columns:\n",
    "    # 统计 Beta_6mer_Sequence 列中每个值的重复次数\n",
    "    sequence_counts = data['Beta_6mer_Sequence'].value_counts()\n",
    "\n",
    "    # 将结果写入 TXT 文件\n",
    "    with open(output_txt_path, 'w') as f:\n",
    "        for sequence, count in sequence_counts.items():\n",
    "            f.write(f\"{sequence}: {count}\\n\")\n",
    "    print(f\"Sequence counts written to {output_txt_path}.\")\n",
    "else:\n",
    "    print(\"Error: 'Beta_6mer_Sequence' column not found in the CSV file.\")"
   ],
   "outputs": [
    {
     "name": "stdout",
     "output_type": "stream",
     "text": [
      "Sequence counts written to D:\\NJU\\code\\sequence_counts.txt.\n"
     ]
    }
   ],
   "execution_count": 1
  },
  {
   "metadata": {
    "ExecuteTime": {
     "end_time": "2024-11-14T06:40:07.203344Z",
     "start_time": "2024-11-14T06:40:07.172099Z"
    }
   },
   "cell_type": "code",
   "source": [
    "import os\n",
    "\n",
    "def list_files(directory):\n",
    "    for root, dirs, files in os.walk(directory):\n",
    "        for file in files:\n",
    "            print(os.path.splitext(file)[0])  # 只打印文件名\n",
    "            # 如果需要打印完整路径，则\n",
    "            # \n",
    "            #使用 os.path.join(root, file)\n",
    "list_files(\"D:\\\\NJU\\\\AI for Science\\\\AI4ab\")"
   ],
   "id": "4c2ef07ed7af7631",
   "outputs": [
    {
     "name": "stdout",
     "output_type": "stream",
     "text": [
      "AbLang an antibody language model for completing abs\n",
      "ai for ab汇报 11-1x\n",
      "ai for ab汇报\n",
      "AI for NanoBody 项目实施计划表\n",
      "Antibody Design Using a Score-based Diffusion Model Guided by Evolutionary, Physical and Geometric Constraints\n",
      "Antibody-antigen docking and design via hierarchical structure refinement\n",
      "Antigen-Specific Antibody Design and Optimization with Diffusion-Based Generative Models for Protein Structures\n",
      "Antigen-Specific Antibody Design via Direct Energy-based Preference Optimization\n",
      "Atomically accurate de novo design of single-domain antibodies\n",
      "Conditional antibody design as 3d equivariant graph\n",
      "De novo generation of SARS-CoV-2 antibody CDRH3 with a pre-trained generative large language model\n",
      "Deciphering antibody affinity maturation with language models and weakly supervised learning\n",
      "DPLM-2 A Multimodal Diffusion Protein Language Model\n",
      "dyMEAN End-to-End Full-Atom Antibody Design\n",
      "E(n) Equivariant Graph Neural Networks\n",
      "Enhancing geometric representations for molecules with equivariant vector-scalar interactive message passing\n",
      "Equivariant Diffusion for Crystal Structure Prediction\n",
      "Equivariant Diffusion for Molecule Generation in 3D\n",
      "Fast and accurate modeling and design of antibody-antigen complex using tFold\n",
      "Fast, Accurate Antibody Structure Prediction From Deep Learning on Massive Set of Natural Antibodies\n",
      "Five computational developability guidelines for therapeutic antibody proﬁling\n",
      "Generative Diffusion Models for Antibody Design, Docking, and Optimization\n",
      "Generative Diffusion Models on Graphs Methods and Applications\n",
      "GeoAB Towards Realistic Antibody Design and Reliable Affinity Maturation\n",
      "GEODIFF A GEOMETRIC DIFFUSION MODEL FOR  MOLECULAR CONFORMATION GENERATION\n",
      "IgGM A Generative Model for Functional Antibody and Nanobody Design\n",
      "IgLM Infilling language modeling for antibody sequence design\n",
      "ImmuneBuilder Deep-Learning models for predicting the structures of immune proteins\n",
      "Incorporating Pre-training Paradigm for Antibody Sequence-Structure Co-design\n",
      "ITERATIVE REFINEMENT GRAPH NEURAL NETWORK FOR ANTIBODY SEQUENCE-STRUCTURE CO-DESIGN\n",
      "nanoBERT a deep learning model for gene agnostic navigation of the nanobody mutational space\n",
      "NanoBERTa-ASP predicting nanobody paratope based on a pretrained RoBERTa model\n",
      "Pre-training Antibody Language Models for Antigen-Specific Computational Antibody Design\n",
      "Predicting antibody binders and generating synthetic antibodies using deep learning\n",
      "Score-based Generative Modeling of Graphs via  the System of Stochastic Differential Equations\n",
      "~$ai for ab汇报 11-1x\n",
      "基于深度学习的冠状病毒中和抗体优化研究_罗霄伟\n",
      "基于深度学习的抗原-抗体相互作用位点预测研究_鲁帅\n",
      "基于计算辅助设计的抗体筛选研究_吕祎彤\n"
     ]
    }
   ],
   "execution_count": 2
  }
 ],
 "metadata": {
  "kernelspec": {
   "display_name": "Python 3",
   "language": "python",
   "name": "python3"
  },
  "language_info": {
   "codemirror_mode": {
    "name": "ipython",
    "version": 2
   },
   "file_extension": ".py",
   "mimetype": "text/x-python",
   "name": "python",
   "nbconvert_exporter": "python",
   "pygments_lexer": "ipython2",
   "version": "2.7.6"
  }
 },
 "nbformat": 4,
 "nbformat_minor": 5
}
